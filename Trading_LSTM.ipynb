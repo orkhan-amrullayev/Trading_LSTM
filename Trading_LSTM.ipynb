{
  "nbformat": 4,
  "nbformat_minor": 0,
  "metadata": {
    "colab": {
      "name": "Binance Trading.ipynb",
      "provenance": [],
      "collapsed_sections": []
    },
    "kernelspec": {
      "name": "python3",
      "display_name": "Python 3"
    },
    "language_info": {
      "name": "python"
    }
  },
  "cells": [
    {
      "cell_type": "code",
      "metadata": {
        "id": "j7mwQAqVOnyQ"
      },
      "source": [
        "import numpy as np\n",
        "import matplotlib.pyplot as plt\n",
        "import pandas as pd\n",
        "import pandas_datareader as web\n",
        "import datetime as dt\n",
        "from sklearn.preprocessing import MinMaxScaler\n",
        "from tensorflow.keras.layers import Dense, Dropout, LSTM\n",
        "from tensorflow.keras.models import Sequential\n",
        "\n",
        "crypto_curr = 'BTC'\n",
        "fiat_curr = \"USD\"\n",
        "\n",
        "start = dt.datetime(2015,1,1)\n",
        "end = dt.datetime.now()\n",
        "\n",
        "data = web.DataReader(f'{crypto_curr}-{fiat_curr}', 'yahoo', start, end)"
      ],
      "execution_count": 22,
      "outputs": []
    },
    {
      "cell_type": "code",
      "metadata": {
        "colab": {
          "base_uri": "https://localhost:8080/"
        },
        "id": "VE0rZQQdd13T",
        "outputId": "fba7053a-b895-4770-f2a3-830ca6bffe89"
      },
      "source": [
        "#prep data for lstm\n",
        "\n",
        "print(data.tail())"
      ],
      "execution_count": 24,
      "outputs": [
        {
          "output_type": "stream",
          "text": [
            "                    High           Low  ...        Volume     Adj Close\n",
            "Date                                    ...                            \n",
            "2021-04-11  61253.035156  59589.875000  ...  5.182869e+10  59893.453125\n",
            "2021-04-12  63742.285156  59869.957031  ...  6.998345e+10  63503.457031\n",
            "2021-04-13  64863.097656  61554.796875  ...  7.745178e+10  63109.695312\n",
            "2021-04-14  63821.671875  62208.964844  ...  6.095438e+10  63314.011719\n",
            "2021-04-16  63542.328125  60389.738281  ...  8.208225e+10  61651.636719\n",
            "\n",
            "[5 rows x 6 columns]\n"
          ],
          "name": "stdout"
        }
      ]
    },
    {
      "cell_type": "code",
      "metadata": {
        "id": "uZlcag_Gd6Eq"
      },
      "source": [
        "scaler = MinMaxScaler(feature_range=(0,1))\n",
        "scaled_data = scaler.fit_transform(data['Close'].values.reshape(-1,1))"
      ],
      "execution_count": 26,
      "outputs": []
    },
    {
      "cell_type": "code",
      "metadata": {
        "id": "htH__zFIfIKV"
      },
      "source": [
        "prediction_days = 60"
      ],
      "execution_count": 59,
      "outputs": []
    },
    {
      "cell_type": "code",
      "metadata": {
        "id": "PYhaRJC_ob1a"
      },
      "source": [
        "future_day = 30"
      ],
      "execution_count": 60,
      "outputs": []
    },
    {
      "cell_type": "code",
      "metadata": {
        "id": "syNNZMPbfVwe"
      },
      "source": [
        "x_train, y_train = [], []\n",
        "\n",
        "for x in range(prediction_days, len(scaled_data) - future_day):\n",
        "  x_train.append(scaled_data[x-prediction_days:x, 0])\n",
        "  y_train.append(scaled_data[x+future_day, 0])\n"
      ],
      "execution_count": 61,
      "outputs": []
    },
    {
      "cell_type": "code",
      "metadata": {
        "id": "gTTEbIQnfbCE"
      },
      "source": [
        "x_train, y_train = np.array(x_train), np.array(y_train)\n",
        "\n",
        "x_train = np.reshape(x_train, (x_train.shape[0], x_train.shape[1], 1))"
      ],
      "execution_count": 62,
      "outputs": []
    },
    {
      "cell_type": "code",
      "metadata": {
        "colab": {
          "base_uri": "https://localhost:8080/"
        },
        "id": "EjhintWMj4GS",
        "outputId": "c2601e74-e0de-4658-b0b8-35582a6b2670"
      },
      "source": [
        "pip install numpy==1.19.5"
      ],
      "execution_count": 39,
      "outputs": [
        {
          "output_type": "stream",
          "text": [
            "Requirement already satisfied: numpy==1.19.5 in /usr/local/lib/python3.7/dist-packages (1.19.5)\n"
          ],
          "name": "stdout"
        }
      ]
    },
    {
      "cell_type": "code",
      "metadata": {
        "id": "WEcnj9mriATs"
      },
      "source": [
        "# create neural network\n",
        "\n",
        "# pip install numpy==1.19.5\n",
        "\n",
        "\n",
        "model = Sequential()\n",
        "\n",
        "model.add(LSTM(units=50, return_sequences=True, input_shape=(x_train.shape[1], 1)))\n",
        "model.add(Dropout(0.2))\n",
        "model.add(LSTM(units=50, return_sequences=True))\n",
        "model.add(Dropout(0.2))\n",
        "model.add(LSTM(units=50))\n",
        "model.add(Dropout(0.2))\n",
        "model.add(Dense(units=1))"
      ],
      "execution_count": 63,
      "outputs": []
    },
    {
      "cell_type": "code",
      "metadata": {
        "colab": {
          "base_uri": "https://localhost:8080/"
        },
        "id": "bF0sulkxiYLz",
        "outputId": "a96ba4bd-7786-4717-b4a4-388519d7a19c"
      },
      "source": [
        "model.compile(optimizer='adam', loss='mean_squared_error')\n",
        "model.fit(x_train, y_train, epochs=25, batch_size=32)"
      ],
      "execution_count": 64,
      "outputs": [
        {
          "output_type": "stream",
          "text": [
            "Epoch 1/25\n",
            "69/69 [==============================] - 11s 83ms/step - loss: 0.0092\n",
            "Epoch 2/25\n",
            "69/69 [==============================] - 6s 86ms/step - loss: 0.0030\n",
            "Epoch 3/25\n",
            "69/69 [==============================] - 6s 85ms/step - loss: 0.0028\n",
            "Epoch 4/25\n",
            "69/69 [==============================] - 6s 85ms/step - loss: 0.0034\n",
            "Epoch 5/25\n",
            "69/69 [==============================] - 6s 85ms/step - loss: 0.0029\n",
            "Epoch 6/25\n",
            "69/69 [==============================] - 6s 84ms/step - loss: 0.0029\n",
            "Epoch 7/25\n",
            "69/69 [==============================] - 6s 86ms/step - loss: 0.0025\n",
            "Epoch 8/25\n",
            "69/69 [==============================] - 6s 86ms/step - loss: 0.0025\n",
            "Epoch 9/25\n",
            "69/69 [==============================] - 6s 86ms/step - loss: 0.0020\n",
            "Epoch 10/25\n",
            "69/69 [==============================] - 6s 86ms/step - loss: 0.0020\n",
            "Epoch 11/25\n",
            "69/69 [==============================] - 6s 87ms/step - loss: 0.0019\n",
            "Epoch 12/25\n",
            "69/69 [==============================] - 6s 86ms/step - loss: 0.0019\n",
            "Epoch 13/25\n",
            "69/69 [==============================] - 6s 88ms/step - loss: 0.0019\n",
            "Epoch 14/25\n",
            "69/69 [==============================] - 6s 88ms/step - loss: 0.0020\n",
            "Epoch 15/25\n",
            "69/69 [==============================] - 6s 88ms/step - loss: 0.0020\n",
            "Epoch 16/25\n",
            "69/69 [==============================] - 6s 88ms/step - loss: 0.0020\n",
            "Epoch 17/25\n",
            "69/69 [==============================] - 6s 88ms/step - loss: 0.0020\n",
            "Epoch 18/25\n",
            "69/69 [==============================] - 6s 87ms/step - loss: 0.0022\n",
            "Epoch 19/25\n",
            "69/69 [==============================] - 6s 87ms/step - loss: 0.0022\n",
            "Epoch 20/25\n",
            "69/69 [==============================] - 6s 88ms/step - loss: 0.0018\n",
            "Epoch 21/25\n",
            "69/69 [==============================] - 6s 90ms/step - loss: 0.0019\n",
            "Epoch 22/25\n",
            "69/69 [==============================] - 6s 88ms/step - loss: 0.0023\n",
            "Epoch 23/25\n",
            "69/69 [==============================] - 6s 90ms/step - loss: 0.0017\n",
            "Epoch 24/25\n",
            "69/69 [==============================] - 6s 89ms/step - loss: 0.0018\n",
            "Epoch 25/25\n",
            "69/69 [==============================] - 6s 88ms/step - loss: 0.0021\n"
          ],
          "name": "stdout"
        },
        {
          "output_type": "execute_result",
          "data": {
            "text/plain": [
              "<tensorflow.python.keras.callbacks.History at 0x7f5fc2855090>"
            ]
          },
          "metadata": {
            "tags": []
          },
          "execution_count": 64
        }
      ]
    },
    {
      "cell_type": "code",
      "metadata": {
        "id": "i5b6B5lnjb-W"
      },
      "source": [
        "#testing the model\n",
        "\n",
        "test_start = dt.datetime(2020,1,1)\n",
        "test_end = dt.datetime.now()"
      ],
      "execution_count": 65,
      "outputs": []
    },
    {
      "cell_type": "code",
      "metadata": {
        "id": "B-dqk4gokFbc"
      },
      "source": [
        "test_data = web.DataReader(f'{crypto_curr}-{fiat_curr}', 'yahoo', test_start, test_end)\n",
        "\n",
        "actual_prices  = test_data['Close'].values\n",
        "\n",
        "total_dataset = pd.concat((data['Close'], test_data['Close']), axis=0)"
      ],
      "execution_count": 66,
      "outputs": []
    },
    {
      "cell_type": "code",
      "metadata": {
        "id": "pUp4Hw0DkcMx"
      },
      "source": [
        "model_inputs = total_dataset[len(total_dataset) - len(test_data) - prediction_days:].values\n",
        "\n",
        "model_inputs = model_inputs.reshape(-1,1)\n",
        "model_inputs = scaler.fit_transform(model_inputs)\n",
        "\n"
      ],
      "execution_count": 67,
      "outputs": []
    },
    {
      "cell_type": "code",
      "metadata": {
        "id": "SnQXxqmhlF7R"
      },
      "source": [
        "x_test = []\n",
        "\n",
        "for x in range(prediction_days, len(model_inputs)):\n",
        "  x_test.append(model_inputs[x-prediction_days:x, 0])"
      ],
      "execution_count": 68,
      "outputs": []
    },
    {
      "cell_type": "code",
      "metadata": {
        "id": "PfPz3XkMlK_K"
      },
      "source": [
        "x_test = np.array(x_test)\n",
        "\n",
        "x_test = np.reshape(x_test, (x_test.shape[0], x_test.shape[1], 1))"
      ],
      "execution_count": 69,
      "outputs": []
    },
    {
      "cell_type": "code",
      "metadata": {
        "id": "UrvtKK08lV0F"
      },
      "source": [
        "prediction_prices = model.predict(x_test)\n",
        "prediction_prices = scaler.inverse_transform(prediction_prices)"
      ],
      "execution_count": 70,
      "outputs": []
    },
    {
      "cell_type": "code",
      "metadata": {
        "colab": {
          "base_uri": "https://localhost:8080/",
          "height": 312
        },
        "id": "VtAgc0qilf_o",
        "outputId": "41838844-c742-4ac0-eb91-15293ab20127"
      },
      "source": [
        "plt.plot(actual_prices, color='black', label = 'Actual PRices')\n",
        "plt.plot(prediction_prices, color='green', label = 'Predicted Prices')\n",
        "\n",
        "plt.title(f'{crypto_curr} price_prediction')\n",
        "plt.xlabel('Time')\n",
        "plt.ylabel('Price')\n",
        "\n",
        "plt.legend(loc='upper left')\n",
        "plt.show"
      ],
      "execution_count": 71,
      "outputs": [
        {
          "output_type": "execute_result",
          "data": {
            "text/plain": [
              "<function matplotlib.pyplot.show>"
            ]
          },
          "metadata": {
            "tags": []
          },
          "execution_count": 71
        },
        {
          "output_type": "display_data",
          "data": {
            "image/png": "[encoded data removed]",
            "text/plain": [
              "<Figure size 432x288 with 1 Axes>"
            ]
          },
          "metadata": {
            "tags": [],
            "needs_background": "light"
          }
        }
      ]
    },
    {
      "cell_type": "code",
      "metadata": {
        "colab": {
          "base_uri": "https://localhost:8080/"
        },
        "id": "kYee8kBvoJ8h",
        "outputId": "394d2036-9a37-4138-d7d9-bc024b8e0c1a"
      },
      "source": [
        "future_day"
      ],
      "execution_count": 72,
      "outputs": [
        {
          "output_type": "execute_result",
          "data": {
            "text/plain": [
              "30"
            ]
          },
          "metadata": {
            "tags": []
          },
          "execution_count": 72
        }
      ]
    },
    {
      "cell_type": "code",
      "metadata": {
        "colab": {
          "base_uri": "https://localhost:8080/"
        },
        "id": "h-FL86H3l7R1",
        "outputId": "488a6b3d-54ec-4490-aa0a-af7c25390db5"
      },
      "source": [
        "# prediction of next day\n",
        "\n",
        "real_data = [model_inputs[len(model_inputs) + 1 - prediction_days:len(model_inputs) + 1, 0]]\n",
        "real_data = np.array(real_data)\n",
        "real_data = np.reshape(real_data, (real_data.shape[0], real_data.shape[1], 1))\n",
        "\n",
        "prediction = model.predict(real_data)\n",
        "prediction = scaler.inverse_transform(prediction)\n",
        "\n",
        "print(prediction)"
      ],
      "execution_count": 74,
      "outputs": [
        {
          "output_type": "stream",
          "text": [
            "WARNING:tensorflow:Model was constructed with shape (None, 60, 1) for input KerasTensor(type_spec=TensorSpec(shape=(None, 60, 1), dtype=tf.float32, name='lstm_16_input'), name='lstm_16_input', description=\"created by layer 'lstm_16_input'\"), but it was called on an input with incompatible shape (None, 59, 1).\n",
            "[[62069.676]]\n"
          ],
          "name": "stdout"
        }
      ]
    },
    {
      "cell_type": "code",
      "metadata": {
        "id": "sU79YODOpS1g"
      },
      "source": [
        ""
      ],
      "execution_count": null,
      "outputs": []
    }
  ]
}
